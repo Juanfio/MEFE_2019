{
 "cells": [
  {
   "cell_type": "code",
   "execution_count": 2,
   "metadata": {},
   "outputs": [],
   "source": [
    "import numpy as np\n",
    "import matplotlib.pyplot as plt\n",
    "from scipy import stats\n",
    "import random as rm"
   ]
  },
  {
   "cell_type": "markdown",
   "metadata": {},
   "source": [
    "# Punto 1"
   ]
  },
  {
   "cell_type": "code",
   "execution_count": 266,
   "metadata": {},
   "outputs": [
    {
     "name": "stdout",
     "output_type": "stream",
     "text": [
      "0.59813\n",
      "0.40187\n"
     ]
    }
   ],
   "source": [
    "p = 0.6\n",
    "suma1 = 0\n",
    "suma2 = 0\n",
    "N = 100000\n",
    "for i in range (N):\n",
    "    a = rm.uniform(0,1)\n",
    "    if 0 <= a < p: #Intervalo [0,p) ; tiene probabilidad p.\n",
    "        suma1 = suma1 + 1\n",
    "    elif p <= a < 1: #Intervalo [1,p) ; tiene probabilidad 1 - p.\n",
    "        suma2 = suma2 + 1\n",
    "print (suma1/N)\n",
    "print (suma2/N)"
   ]
  },
  {
   "cell_type": "code",
   "execution_count": 285,
   "metadata": {},
   "outputs": [
    {
     "data": {
      "text/plain": [
       "0.3094828245512695"
      ]
     },
     "execution_count": 285,
     "metadata": {},
     "output_type": "execute_result"
    }
   ],
   "source": [
    "rm.uniform(0,1)"
   ]
  },
  {
   "cell_type": "code",
   "execution_count": 287,
   "metadata": {},
   "outputs": [
    {
     "name": "stdout",
     "output_type": "stream",
     "text": [
      "494\n"
     ]
    }
   ],
   "source": [
    "def ensayo_jakob (n,p):\n",
    "    exitos = 0\n",
    "    for i in range (n):\n",
    "        var_alea = rm.uniform (0,1)\n",
    "        if var_alea < p:\n",
    "            exitos = exitos + 1\n",
    "    return exitos\n",
    "\n",
    "print (ensayo_jakob (1000,0.5))"
   ]
  },
  {
   "cell_type": "markdown",
   "metadata": {},
   "source": [
    "# Punto 2"
   ]
  },
  {
   "cell_type": "code",
   "execution_count": 357,
   "metadata": {},
   "outputs": [
    {
     "name": "stderr",
     "output_type": "stream",
     "text": [
      "C:\\ProgramData\\Anaconda3\\lib\\site-packages\\matplotlib\\axes\\_axes.py:6571: UserWarning: The 'normed' kwarg is deprecated, and has been replaced by the 'density' kwarg.\n",
      "  warnings.warn(\"The 'normed' kwarg is deprecated, and has been \"\n"
     ]
    },
    {
     "data": {
      "image/png": "[encoded data removed]",
      "text/plain": [
       "<Figure size 432x288 with 1 Axes>"
      ]
     },
     "metadata": {
      "needs_background": "light"
     },
     "output_type": "display_data"
    }
   ],
   "source": [
    "n_fotones = 15\n",
    "e_detector = 0.75\n",
    "N = 10000\n",
    "fotones_detectados = []\n",
    "for _ in range (N):\n",
    "    fotones_detectados.append(ensayo_jakob (n_fotones,e_detector))\n",
    "\n",
    "plt.hist (fotones_detectados, edgecolor = \"black\", normed = True)\n",
    "plt.xlabel (\"Número de Fotones detectados\")\n",
    "plt.ylabel (\"Veces que ocurrió\")\n",
    "\n",
    "x = np.linspace (1,n_fotones,n_fotones)\n",
    "y = []\n",
    "for i in range (1,n_fotones+1):\n",
    "    y.append(stats.binom.pmf (i,n_fotones,e_detector))\n",
    "plt.plot (x,y)\n",
    "\n",
    "plt.show ()"
   ]
  },
  {
   "cell_type": "markdown",
   "metadata": {},
   "source": [
    "1. ¿Es posible que al aumentar la cantidad de fotones que tiro, manteniendo la eficiencia disminuya el maximo de la probabilidad?"
   ]
  }
 ],
 "metadata": {
  "kernelspec": {
   "display_name": "Python 3",
   "language": "python",
   "name": "python3"
  },
  "language_info": {
   "codemirror_mode": {
    "name": "ipython",
    "version": 3
   },
   "file_extension": ".py",
   "mimetype": "text/x-python",
   "name": "python",
   "nbconvert_exporter": "python",
   "pygments_lexer": "ipython3",
   "version": "3.7.0"
  }
 },
 "nbformat": 4,
 "nbformat_minor": 2
}
