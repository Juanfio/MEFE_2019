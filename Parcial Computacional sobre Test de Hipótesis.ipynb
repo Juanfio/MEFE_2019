{
 "cells": [
  {
   "cell_type": "code",
   "execution_count": 55,
   "metadata": {},
   "outputs": [],
   "source": [
    "import numpy as np\n",
    "import matplotlib.pyplot as plt\n",
    "from scipy import stats\n",
    "import random as rm\n",
    "import math"
   ]
  },
  {
   "cell_type": "code",
   "execution_count": 110,
   "metadata": {},
   "outputs": [
    {
     "name": "stdout",
     "output_type": "stream",
     "text": [
      "[15880, 39538, 81793, 82605, 204498, 227264, 233580, 286433, 308751, 358060, 410756, 494407, 509463, 509840, 541495, 542040, 555647, 576733, 624404, 625260, 639909, 643358, 666058, 675439, 764097, 833745, 862158, 889182, 899982, 905166, 912844, 931337, 1022286, 1042358, 1049567, 1071495, 1110719, 1136524, 1148199, 1252607, 1256011, 1278743, 1299474, 1314226, 1318387, 1380629, 1404468, 1449111, 1471073, 1499950, 1507356, 1529987, 1608331, 1625202, 1689495, 1696326, 1740231, 1750517, 1803590, 1828204, 1838833, 1859250, 1949670, 1982932, 2005102, 2092335, 2100346, 2112995, 2210114, 2235135, 2281928, 2294302, 2294582]\n"
     ]
    }
   ],
   "source": [
    "# Paso la base de datos.\n",
    "datos = []\n",
    "with open(\"Datos.txt\") as file:\n",
    "    for line in file:\n",
    "        line = line.strip()\n",
    "        datos.append (int(line))\n",
    "    file.close()\n",
    "\n",
    "print (datos)\n",
    "# muestra_ale = []\n",
    "# for _ in range (len(datos)):\n",
    "#     muestra_ale.append(rm.randint (min(datos),max(datos)))\n",
    "# x_teo = np.linspace(1,max(datos),max(datos))\n",
    "# print (x_teo)"
   ]
  },
  {
   "cell_type": "code",
   "execution_count": 125,
   "metadata": {},
   "outputs": [
    {
     "data": {
      "text/plain": [
       "(-0.01, 1.01)"
      ]
     },
     "execution_count": 125,
     "metadata": {},
     "output_type": "execute_result"
    },
    {
     "data": {
      "image/png": "[encoded data removed]",
      "text/plain": [
       "<Figure size 432x288 with 1 Axes>"
      ]
     },
     "metadata": {
      "needs_background": "light"
     },
     "output_type": "display_data"
    }
   ],
   "source": [
    "data = datos\n",
    "y = np.arange(1,len(data)+1)/len(data)\n",
    "\n",
    "fig, ax = plt.subplots()\n",
    "ax.set_facecolor('white')\n",
    "\n",
    "# https://matplotlib.org/api/_as_gen/matplotlib.axes.Axes.hlines.html\n",
    "ax.hlines(y, xmin=data[:-1], xmax=data[1:],\n",
    "          color='red', zorder=1)\n",
    "\n",
    "# https://matplotlib.org/api/_as_gen/matplotlib.axes.Axes.vlines.html\n",
    "ax.vlines(x=data[1:-1], ymin=y[:-1], ymax=y[1:], color='red',\n",
    "          linestyle='dashed', zorder=1)\n",
    "\n",
    "# ax.scatter(data, y, color='red', s=18, zorder=2)\n",
    "# ax.scatter(data, y, color='white', s=18, zorder=2,\n",
    "#            edgecolor='red')\n",
    "ax.grid(True)\n",
    "ax.set_xlim(data[0], data[-1])\n",
    "ax.set_ylim([-0.01, 1.01])\n",
    "# print (data)\n",
    "# print (len(data[1:-1]))"
   ]
  }
 ],
 "metadata": {
  "kernelspec": {
   "display_name": "Python 3",
   "language": "python",
   "name": "python3"
  },
  "language_info": {
   "codemirror_mode": {
    "name": "ipython",
    "version": 3
   },
   "file_extension": ".py",
   "mimetype": "text/x-python",
   "name": "python",
   "nbconvert_exporter": "python",
   "pygments_lexer": "ipython3",
   "version": "3.7.0"
  }
 },
 "nbformat": 4,
 "nbformat_minor": 2
}
