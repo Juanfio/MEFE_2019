{
 "cells": [
  {
   "cell_type": "code",
   "execution_count": 2,
   "metadata": {},
   "outputs": [],
   "source": [
    "import numpy as np\n",
    "import matplotlib.pyplot as plt\n",
    "from scipy import stats\n",
    "import random as rm"
   ]
  },
  {
   "cell_type": "code",
   "execution_count": 149,
   "metadata": {},
   "outputs": [
    {
     "name": "stdout",
     "output_type": "stream",
     "text": [
      "28.03069286721589\n"
     ]
    },
    {
     "data": {
      "image/png": "[encoded data removed]",
      "text/plain": [
       "<Figure size 432x288 with 1 Axes>"
      ]
     },
     "metadata": {
      "needs_background": "light"
     },
     "output_type": "display_data"
    },
    {
     "name": "stdout",
     "output_type": "stream",
     "text": [
      "-71.25000000000001\n",
      "71.25000000000001\n",
      "[-0.5  -0.45 -0.4  -0.35 -0.3  -0.25 -0.2  -0.15 -0.1  -0.05  0.    0.05\n",
      "  0.1   0.15  0.2   0.25  0.3   0.35  0.4   0.45  0.5   0.55  0.6   0.65\n",
      "  0.7   0.75  0.8   0.85  0.9   0.95  1.    1.05  1.1   1.15  1.2   1.25\n",
      "  1.3   1.35  1.4   1.45  1.5   1.55  1.6   1.65  1.7   1.75  1.8   1.85\n",
      "  1.9   1.95  2.  ]\n"
     ]
    }
   ],
   "source": [
    "func = lambda x: x * k\n",
    "def ajuste (datos):\n",
    "    y = []\n",
    "    for i in range (len(datos)):\n",
    "        y.append(func(datos[i]))\n",
    "    return y\n",
    "\n",
    "suma = 0\n",
    "n_pasaron = []\n",
    "N = 1000\n",
    "cota = 0.75\n",
    "for i in range (N):\n",
    "    a = rm.random ()    \n",
    "    if a < cota:\n",
    "        suma = suma + 1\n",
    "        n_pasaron.append (a)\n",
    "        \n",
    "k = N * cota * 0.05\n",
    "\n",
    "\n",
    "n, binss, patches = plt.hist (n_pasaron, range = (-0.5,2), edgecolor = \"black\", bins = 50)\n",
    "plt.plot(n_pasaron,ajuste(n_pasaron))\n",
    "plt.show ()\n",
    "print (n[49]-func(binss[48])) #pero hay que acotarlo a los bines que tienen altura distinta de cero.\n",
    "# print (len(n))\n",
    "\n"
   ]
  }
 ],
 "metadata": {
  "kernelspec": {
   "display_name": "Python 3",
   "language": "python",
   "name": "python3"
  },
  "language_info": {
   "codemirror_mode": {
    "name": "ipython",
    "version": 3
   },
   "file_extension": ".py",
   "mimetype": "text/x-python",
   "name": "python",
   "nbconvert_exporter": "python",
   "pygments_lexer": "ipython3",
   "version": "3.7.0"
  }
 },
 "nbformat": 4,
 "nbformat_minor": 2
}
